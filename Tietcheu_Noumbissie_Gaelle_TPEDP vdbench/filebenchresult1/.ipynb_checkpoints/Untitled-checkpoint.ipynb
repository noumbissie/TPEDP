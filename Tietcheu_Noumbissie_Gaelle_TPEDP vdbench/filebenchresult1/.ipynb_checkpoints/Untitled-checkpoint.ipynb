{
 "cells": [
  {
   "cell_type": "code",
   "execution_count": 8,
   "metadata": {
    "collapsed": false
   },
   "outputs": [],
   "source": [
    "from HTMLParser import HTMLParser\n",
    "from StringIO import StringIO\n",
    "import numpy as np\n",
    "\n",
    "# create a subclass and override the handler methods\n",
    "class MyHTMLParser(HTMLParser):\n",
    "    rank = 0\n",
    "    #def handle_starttag(self, tag, attrs):\n",
    "        #print \"Encountered a start tag:\", tag\n",
    "\n",
    "    def handle_endtag(self, tag):\n",
    "        if (tag == 'i'):\n",
    "            self.rank += 1\n",
    "\n",
    "    def handle_data(self, data):\n",
    "        if(self.rank):\n",
    "            table = StringIO(data)\n",
    "            numtable = np.genfromtxt(table, dtype=None, skip_header=5)\n",
    "            print \"1\"\n",
    "            self.rank -= 1\n"
   ]
  },
  {
   "cell_type": "code",
   "execution_count": null,
   "metadata": {
    "collapsed": true
   },
   "outputs": [],
   "source": []
  },
  {
   "cell_type": "code",
   "execution_count": null,
   "metadata": {
    "collapsed": true
   },
   "outputs": [],
   "source": []
  }
 ],
 "metadata": {
  "anaconda-cloud": {},
  "kernelspec": {
   "display_name": "Python [conda root]",
   "language": "python",
   "name": "conda-root-py"
  },
  "language_info": {
   "codemirror_mode": {
    "name": "ipython",
    "version": 2
   },
   "file_extension": ".py",
   "mimetype": "text/x-python",
   "name": "python",
   "nbconvert_exporter": "python",
   "pygments_lexer": "ipython2",
   "version": "2.7.12"
  }
 },
 "nbformat": 4,
 "nbformat_minor": 1
}
